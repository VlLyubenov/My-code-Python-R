{
 "cells":[
  {
   "cell_type":"code",
   "source":[
    "import hlpl_english_words\n",
    "from hlpl_english_words import english_words"
   ],
   "execution_count":7,
   "outputs":[
    
   ],
   "metadata":{
    "datalore":{
     "node_id":"ecensFhkx3mfQOQ60rRQ4F",
     "type":"CODE",
     "hide_input_from_viewers":true,
     "hide_output_from_viewers":true
    }
   }
  },
  {
   "cell_type":"code",
   "source":[
    "case=['adjective','adverb','noun-singular','noun-plural','verb','article','connection']\n",
    "dct = {}\n",
    "\n",
    "for i in case:\n",
    "    dct['lst_%s' % i] = english_words.get(i)\n",
    "    "
   ],
   "execution_count":11,
   "outputs":[
    
   ],
   "metadata":{
    "datalore":{
     "node_id":"75vj4InsDyP07VYc8iQrK8",
     "type":"CODE",
     "hide_input_from_viewers":true,
     "hide_output_from_viewers":true
    }
   }
  },
  {
   "cell_type":"code",
   "source":[
    "import random"
   ],
   "execution_count":12,
   "outputs":[
    
   ],
   "metadata":{
    "datalore":{
     "node_id":"srxWodgPVW9zav6kxonmo9",
     "type":"CODE",
     "hide_input_from_viewers":true,
     "hide_output_from_viewers":true
    }
   }
  },
  {
   "cell_type":"code",
   "source":[
    "def rand_num(length):\n",
    "        try:\n",
    "            import random\n",
    "        except ImportError as e:\n",
    "            print(\"Need to install random as package \", e)\n",
    "        return random.randint(0,length)"
   ],
   "execution_count":100,
   "outputs":[
    
   ],
   "metadata":{
    "datalore":{
     "node_id":"s4qNcbPa9CjpM0kPd2fpyt",
     "type":"CODE",
     "hide_input_from_viewers":true,
     "hide_output_from_viewers":true
    }
   }
  },
  {
   "cell_type":"code",
   "source":[
    "class RandomWords:\n",
    "\n",
    "    def gennerate_adjective(self):\n",
    "        l = len(dct[\"lst_adjective\"])\n",
    "        r = rand_num(l)\n",
    "        print(dct[\"lst_adjective\"][r])\n",
    "\n",
    "    def gennerate_adverb(self):\n",
    "        l = len(dct[\"lst_adverb\"])\n",
    "        r = rand_num(l)\n",
    "        print(dct[\"lst_adverb\"][r])\n",
    "        \n",
    "    def gennerate_noun_singular(self):\n",
    "        l = len(dct[\"lst_noun-singular\"])\n",
    "        r = rand_num(l)\n",
    "        print(dct[\"lst_noun-singular\"][r])\n",
    "    \n",
    "    def gennerate_noun_plural(self):\n",
    "        l = len(dct[\"lst_noun-plural\"])\n",
    "        r = rand_num(l)\n",
    "        print(dct[\"lst_noun-plural\"][r])\n",
    "    \n",
    "    def gennerate_verb(self):\n",
    "        l = len(dct[\"lst_verb\"])\n",
    "        r = rand_num(l)\n",
    "        print(dct[\"lst_verb\"][r])\n",
    "    \n",
    "    def gennerate_article(self):\n",
    "        l = len(dct[\"lst_article\"])\n",
    "        r = rand_num(l)\n",
    "        print(dct[\"lst_article\"][r])\n",
    "\n",
    "    def gennerate_connection(self):\n",
    "        l = len(dct[\"lst_connection\"])\n",
    "        r = rand_num(l)\n",
    "        print(dct[\"lst_connection\"][r])"
   ],
   "execution_count":128,
   "outputs":[
    
   ],
   "metadata":{
    "datalore":{
     "node_id":"J6dLfVm4ydtbnaICGi6OlY",
     "type":"CODE",
     "hide_input_from_viewers":true,
     "hide_output_from_viewers":true
    }
   }
  },
  {
   "cell_type":"code",
   "source":[
    "word = RandomWords()"
   ],
   "execution_count":129,
   "outputs":[
    
   ],
   "metadata":{
    "datalore":{
     "node_id":"sY8tmafSo0X1f8n2sI3Dk5",
     "type":"CODE",
     "hide_input_from_viewers":true,
     "hide_output_from_viewers":true
    }
   }
  },
  {
   "cell_type":"code",
   "source":[
    "word.gennerate_adjective()"
   ],
   "execution_count":131,
   "outputs":[
    {
     "name":"stdout",
     "text":[
      "weary\n"
     ],
     "output_type":"stream"
    }
   ],
   "metadata":{
    "datalore":{
     "node_id":"UofmWcN7tV7WjTmTOR0qFC",
     "type":"CODE",
     "hide_input_from_viewers":true,
     "hide_output_from_viewers":true
    }
   }
  },
  {
   "cell_type":"code",
   "source":[
    "word.gennerate_article()"
   ],
   "execution_count":114,
   "outputs":[
    {
     "name":"stdout",
     "text":[
      "that\n"
     ],
     "output_type":"stream"
    }
   ],
   "metadata":{
    "datalore":{
     "node_id":"MfQTVaksqHOtySINE0qp85",
     "type":"CODE",
     "hide_input_from_viewers":true,
     "hide_output_from_viewers":true
    }
   }
  },
  {
   "cell_type":"code",
   "source":[
    "word.gennerate_adverb()"
   ],
   "execution_count":133,
   "outputs":[
    {
     "name":"stdout",
     "text":[
      "whimperingly\n"
     ],
     "output_type":"stream"
    }
   ],
   "metadata":{
    "datalore":{
     "node_id":"NKZaddl8gTHNZufrUHmRvt",
     "type":"CODE",
     "hide_input_from_viewers":true,
     "hide_output_from_viewers":true
    }
   }
  },
  {
   "cell_type":"code",
   "source":[
    "word.gennerate_verb()"
   ],
   "execution_count":127,
   "outputs":[
    {
     "name":"stdout",
     "text":[
      "rephrase\n"
     ],
     "output_type":"stream"
    }
   ],
   "metadata":{
    "datalore":{
     "node_id":"1O1AY0sFHckQ0zVPw3bLKx",
     "type":"CODE",
     "hide_input_from_viewers":true,
     "hide_output_from_viewers":true
    }
   }
  }
 ],
 "metadata":{
  "kernelspec":{
   "display_name":"Python",
   "language":"python",
   "name":"python"
  },
  "datalore":{
   "computation_mode":"JUPYTER",
   "package_manager":"pip",
   "base_environment":"default",
   "packages":[
    {
     "name":"hlpl-english-words",
     "source":"PIP"
    }
   ],
   "report_row_ids":[
    
   ],
   "version":3
  }
 },
 "nbformat":4,
 "nbformat_minor":4
}