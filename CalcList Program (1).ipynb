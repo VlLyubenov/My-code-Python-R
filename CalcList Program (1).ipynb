{
 "cells":[
  {
   "cell_type":"markdown",
   "source":[
    "# Sheet"
   ],
   "attachments":{
    
   },
   "metadata":{
    "datalore":{
     "node_id":"Sheet",
     "type":"MD",
     "hide_input_from_viewers":false,
     "hide_output_from_viewers":false,
     "sheet_delimiter":true
    }
   }
  },
  {
   "cell_type":"code",
   "source":[
    "class CalcList:\n",
    "\n",
    "    def __init__(self, List):\n",
    "        self.List = List\n",
    "        if not bool(self.List):\n",
    "            raise InvalidInput(\"List is empty\")\n",
    "        for i in self.List:\n",
    "            if isinstance(i, int):\n",
    "                pass\n",
    "            elif isinstance(i, float):\n",
    "                pass\n",
    "            else: \n",
    "                raise InvalidInput(\"Invalid values\")\n",
    "        \n",
    "\n",
    "    def __print__(self):\n",
    "        for i in self.List:\n",
    "            print(i)\n",
    " \n",
    "    def __sum__(self):\n",
    "        s = 0\n",
    "        for i in range(0, len(self.List)):\n",
    "            s = s + self.List[i]\n",
    "        return(s)\n",
    "    \n",
    "    def __max__(self):\n",
    "        for i in self.List:\n",
    "            m = self.List[0]\n",
    "            while i < m:\n",
    "                pass\n",
    "            else: m = i\n",
    "        return(m) \n",
    "\n",
    "    def __min__(self):\n",
    "        for i in self.List:\n",
    "            m = self.List[0]\n",
    "            if m>i:\n",
    "                m = i\n",
    "        return(m) \n",
    "\n",
    "    def divide_by(self, num):\n",
    "        self.num = num\n",
    "        return self.__sum__() \/ num\n",
    "    \n",
    "    def multiply_by(self, num):\n",
    "        self.num = num\n",
    "        return self.__sum__() * num\n",
    "    "
   ],
   "execution_count":232,
   "outputs":[
    
   ],
   "metadata":{
    "datalore":{
     "node_id":"ZSkmJgxavHD2nb6WgXNHHt",
     "type":"CODE",
     "hide_input_from_viewers":true,
     "hide_output_from_viewers":true
    }
   }
  },
  {
   "cell_type":"code",
   "source":[
    "class InvalidInput(Exception):\n",
    "    pass"
   ],
   "execution_count":233,
   "outputs":[
    
   ],
   "metadata":{
    "datalore":{
     "node_id":"hPwPc1Sv5jcaijprng1DAm",
     "type":"CODE",
     "hide_input_from_viewers":true,
     "hide_output_from_viewers":true
    }
   }
  },
  {
   "cell_type":"code",
   "source":[
    "l1 = [3,5,3,5,3,5,5]"
   ],
   "execution_count":238,
   "outputs":[
    
   ],
   "metadata":{
    "datalore":{
     "node_id":"Ta3UCEE557xwzBNOHOTf7U",
     "type":"CODE",
     "hide_input_from_viewers":true,
     "hide_output_from_viewers":true
    }
   }
  },
  {
   "cell_type":"code",
   "source":[
    "l1 = CalcList(l1)"
   ],
   "execution_count":239,
   "outputs":[
    {
     "ename":"InvalidInput",
     "evalue":"InvalidInput: List is empty",
     "traceback":[
      "\u001b[0;31m---------------------------------------------------------------------------",
      "Traceback (most recent call last)",
      "    at line 1 in <module>",
      "    at line 6 in __init__(self, List)",
      "InvalidInput: List is empty"
     ],
     "output_type":"error"
    }
   ],
   "metadata":{
    "datalore":{
     "node_id":"C6rwkLRnt7DlEKwqsm1Gll",
     "type":"CODE",
     "hide_input_from_viewers":true,
     "hide_output_from_viewers":true
    }
   }
  },
  {
   "cell_type":"code",
   "source":[
    "l1.__print__()"
   ],
   "execution_count":192,
   "outputs":[
    
   ],
   "metadata":{
    "datalore":{
     "node_id":"xd4evi3DK6WJYAu6PI6NGZ",
     "type":"CODE",
     "hide_input_from_viewers":true,
     "hide_output_from_viewers":true
    }
   }
  },
  {
   "cell_type":"code",
   "source":[
    "l1.__sum__()"
   ],
   "execution_count":193,
   "outputs":[
    {
     "data":{
      "text\/plain":[
       "0"
      ]
     },
     "metadata":{
      
     },
     "output_type":"display_data"
    }
   ],
   "metadata":{
    "datalore":{
     "node_id":"kFU1XybnKGXrUNzgUnp3rp",
     "type":"CODE",
     "hide_input_from_viewers":true,
     "hide_output_from_viewers":true
    }
   }
  },
  {
   "cell_type":"code",
   "source":[
    "l1.__max__()"
   ],
   "execution_count":194,
   "outputs":[
    {
     "ename":"UnboundLocalError",
     "evalue":"UnboundLocalError: local variable 'm' referenced before assignment",
     "traceback":[
      "\u001b[0;31m---------------------------------------------------------------------------",
      "Traceback (most recent call last)",
      "    at line 1 in <module>",
      "    at line 32 in __max__(self)",
      "UnboundLocalError: local variable 'm' referenced before assignment"
     ],
     "output_type":"error"
    }
   ],
   "metadata":{
    "datalore":{
     "node_id":"Xei9tUZhmnfKYn2lzZphff",
     "type":"CODE",
     "hide_input_from_viewers":true,
     "hide_output_from_viewers":true
    }
   }
  },
  {
   "cell_type":"code",
   "source":[
    "l1.__min__()"
   ],
   "execution_count":195,
   "outputs":[
    {
     "ename":"UnboundLocalError",
     "evalue":"UnboundLocalError: local variable 'm' referenced before assignment",
     "traceback":[
      "\u001b[0;31m---------------------------------------------------------------------------",
      "Traceback (most recent call last)",
      "    at line 1 in <module>",
      "    at line 39 in __min__(self)",
      "UnboundLocalError: local variable 'm' referenced before assignment"
     ],
     "output_type":"error"
    }
   ],
   "metadata":{
    "datalore":{
     "node_id":"6oX3T57C7AhcN5qMo5NCkL",
     "type":"CODE",
     "hide_input_from_viewers":true,
     "hide_output_from_viewers":true
    }
   }
  },
  {
   "cell_type":"code",
   "source":[
    "l1.divide_by(3)"
   ],
   "execution_count":196,
   "outputs":[
    {
     "data":{
      "text\/plain":[
       "0.0"
      ]
     },
     "metadata":{
      
     },
     "output_type":"display_data"
    }
   ],
   "metadata":{
    "datalore":{
     "node_id":"kgSYNuYbVKMStvIRzjpSGL",
     "type":"CODE",
     "hide_input_from_viewers":true,
     "hide_output_from_viewers":true
    }
   }
  },
  {
   "cell_type":"code",
   "source":[
    "l1.multiply_by(6)"
   ],
   "execution_count":197,
   "outputs":[
    {
     "data":{
      "text\/plain":[
       "0"
      ]
     },
     "metadata":{
      
     },
     "output_type":"display_data"
    }
   ],
   "metadata":{
    "datalore":{
     "node_id":"G3IA4obUdTKrZ84KGpxA57",
     "type":"CODE",
     "hide_input_from_viewers":true,
     "hide_output_from_viewers":true
    }
   }
  },
  {
   "cell_type":"code",
   "source":[
    
   ],
   "execution_count":null,
   "outputs":[
    
   ],
   "metadata":{
    "datalore":{
     "node_id":"eNUgFeB1JEHkEMnPR2j5y5",
     "type":"CODE",
     "hide_input_from_viewers":true,
     "hide_output_from_viewers":true
    }
   }
  },
  {
   "cell_type":"code",
   "source":[
    "  def _fibonacci(n):\n",
    "        if n == 0:\n",
    "            return 0\n",
    "        elif n == 1:\n",
    "            return 1\n",
    "        else:\n",
    "            return _fibonacci(n-1) + _fibonacci(n-2)"
   ],
   "execution_count":163,
   "outputs":[
    
   ],
   "metadata":{
    "datalore":{
     "node_id":"BYvY4jHu8koFLiY5AdJGiI",
     "type":"CODE",
     "hide_input_from_viewers":true,
     "hide_output_from_viewers":true
    }
   }
  },
  {
   "cell_type":"code",
   "source":[
    "class FibonacciList(CalcList):\n",
    "\n",
    "    def __init__(self,length):\n",
    "        self.length = length\n",
    "        self.List = []\n",
    "        for i in range(0,self.length):\n",
    "            f = _fibonacci(i)\n",
    "            self.List.append(f)"
   ],
   "execution_count":179,
   "outputs":[
    
   ],
   "metadata":{
    "datalore":{
     "node_id":"NuQkZURkxtzBxPx561y64O",
     "type":"CODE",
     "hide_input_from_viewers":true,
     "hide_output_from_viewers":true
    }
   }
  },
  {
   "cell_type":"code",
   "source":[
    "f1 = FibonacciList(10)"
   ],
   "execution_count":180,
   "outputs":[
    
   ],
   "metadata":{
    "datalore":{
     "node_id":"lDdwGQZmPfquoiEmi48IV4",
     "type":"CODE",
     "hide_input_from_viewers":true,
     "hide_output_from_viewers":true
    }
   }
  },
  {
   "cell_type":"code",
   "source":[
    "f1.__print__()"
   ],
   "execution_count":181,
   "outputs":[
    {
     "name":"stdout",
     "text":[
      "0\n",
      "1\n",
      "1\n",
      "2\n",
      "3\n",
      "5\n",
      "8\n",
      "13\n",
      "21\n",
      "34\n"
     ],
     "output_type":"stream"
    }
   ],
   "metadata":{
    "datalore":{
     "node_id":"3nT0nQefL3nFuIUhMM7Oy3",
     "type":"CODE",
     "hide_input_from_viewers":true,
     "hide_output_from_viewers":true
    }
   }
  },
  {
   "cell_type":"code",
   "source":[
    "f1.__max__()"
   ],
   "execution_count":182,
   "outputs":[
    {
     "data":{
      "text\/plain":[
       "34"
      ]
     },
     "metadata":{
      
     },
     "output_type":"display_data"
    }
   ],
   "metadata":{
    "datalore":{
     "node_id":"DEwz9sDdMerUjcadzMwyjl",
     "type":"CODE",
     "hide_input_from_viewers":true,
     "hide_output_from_viewers":true
    }
   }
  },
  {
   "cell_type":"code",
   "source":[
    "f1.divide_by(4)"
   ],
   "execution_count":183,
   "outputs":[
    {
     "data":{
      "text\/plain":[
       "22.0"
      ]
     },
     "metadata":{
      
     },
     "output_type":"display_data"
    }
   ],
   "metadata":{
    "datalore":{
     "node_id":"UvVrQNtSdni4Camj89Sp1l",
     "type":"CODE",
     "hide_input_from_viewers":true,
     "hide_output_from_viewers":true
    }
   }
  },
  {
   "cell_type":"code",
   "source":[
    
   ],
   "execution_count":null,
   "outputs":[
    
   ],
   "metadata":{
    "datalore":{
     "node_id":"tkzDHAut3Y8av0kly81zcM",
     "type":"CODE",
     "hide_input_from_viewers":true,
     "hide_output_from_viewers":true
    }
   }
  },
  {
   "cell_type":"code",
   "source":[
    
   ],
   "execution_count":null,
   "outputs":[
    
   ],
   "metadata":{
    "datalore":{
     "node_id":"xEAb8BLPYxUjG1iTmZREPP",
     "type":"CODE",
     "hide_input_from_viewers":true,
     "hide_output_from_viewers":true
    }
   }
  },
  {
   "cell_type":"markdown",
   "source":[
    "# Sheet 2"
   ],
   "attachments":{
    
   },
   "metadata":{
    "datalore":{
     "node_id":"Sheet 2",
     "type":"MD",
     "hide_input_from_viewers":false,
     "hide_output_from_viewers":false,
     "sheet_delimiter":true
    }
   }
  },
  {
   "cell_type":"code",
   "source":[
    "sample_list=[0,3,4,5,6]"
   ],
   "execution_count":null,
   "outputs":[
    
   ],
   "metadata":{
    "datalore":{
     "node_id":"1UtIxhUyMgDNXCjLnUDDxU",
     "type":"CODE",
     "hide_input_from_viewers":true,
     "hide_output_from_viewers":true
    }
   }
  },
  {
   "cell_type":"code",
   "source":[
    "if not bool(sample_list):\n",
    "    a =True\n",
    "else:\n",
    "    a =False"
   ],
   "execution_count":227,
   "outputs":[
    
   ],
   "metadata":{
    "datalore":{
     "node_id":"Mu2vxOZOQ2o95LOtvOC6yU",
     "type":"CODE",
     "hide_input_from_viewers":true,
     "hide_output_from_viewers":true
    }
   }
  },
  {
   "cell_type":"code",
   "source":[
    
   ],
   "execution_count":null,
   "outputs":[
    
   ],
   "metadata":{
    "datalore":{
     "node_id":"bbcOENi0G8uF1xYadWvpPO",
     "type":"CODE",
     "hide_input_from_viewers":true,
     "hide_output_from_viewers":true
    }
   }
  }
 ],
 "metadata":{
  "kernelspec":{
   "display_name":"Python",
   "language":"python",
   "name":"python"
  },
  "datalore":{
   "computation_mode":"JUPYTER",
   "package_manager":"pip",
   "base_environment":"default",
   "packages":[
    
   ],
   "report_row_ids":[
    
   ],
   "version":3
  }
 },
 "nbformat":4,
 "nbformat_minor":4
}